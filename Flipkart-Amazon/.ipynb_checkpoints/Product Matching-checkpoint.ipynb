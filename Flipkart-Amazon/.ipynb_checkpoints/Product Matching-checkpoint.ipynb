{
 "cells": [
  {
   "cell_type": "markdown",
   "id": "eac2a4ae",
   "metadata": {},
   "source": [
    "## Importing the dependecies"
   ]
  },
  {
   "cell_type": "code",
   "execution_count": 1,
   "id": "a599bfdc",
   "metadata": {},
   "outputs": [],
   "source": [
    "import numpy as np\n",
    "import pandas as pd\n",
    "import matplotlib.pyplot as plt\n",
    "import seaborn as sns"
   ]
  },
  {
   "cell_type": "markdown",
   "id": "a7a3be27",
   "metadata": {},
   "source": [
    "## Loading the Data"
   ]
  },
  {
   "cell_type": "code",
   "execution_count": 2,
   "id": "7e62dc1b",
   "metadata": {},
   "outputs": [],
   "source": [
    "data1 = pd.read_csv('amz_com-ecommerce_sample.csv',encoding='unicode_escape')\n",
    "data2 = pd.read_csv('flipkart_com-ecommerce_sample.csv',encoding='unicode_escape')"
   ]
  },
  {
   "cell_type": "markdown",
   "id": "ee11590f",
   "metadata": {},
   "source": [
    "## Checking the Null Values"
   ]
  },
  {
   "cell_type": "code",
   "execution_count": 3,
   "id": "ea62d072",
   "metadata": {},
   "outputs": [
    {
     "data": {
      "text/plain": [
       "uniq_id                       0\n",
       "crawl_timestamp               0\n",
       "product_url                   0\n",
       "product_name                  0\n",
       "product_category_tree         0\n",
       "pid                           0\n",
       "retail_price                 78\n",
       "discounted_price             78\n",
       "image                         3\n",
       "is_FK_Advantage_product       0\n",
       "description                   2\n",
       "product_rating                0\n",
       "overall_rating                0\n",
       "brand                      5864\n",
       "product_specifications       14\n",
       "dtype: int64"
      ]
     },
     "execution_count": 3,
     "metadata": {},
     "output_type": "execute_result"
    }
   ],
   "source": [
    "data2.isnull().sum()"
   ]
  },
  {
   "cell_type": "code",
   "execution_count": 4,
   "id": "45348e25",
   "metadata": {},
   "outputs": [
    {
     "data": {
      "text/plain": [
       "uniq_id                       0\n",
       "crawl_timestamp               0\n",
       "product_url                   0\n",
       "product_name                  0\n",
       "product_category_tree         0\n",
       "pid                           0\n",
       "retail_price                  0\n",
       "discounted_price              0\n",
       "image                         3\n",
       "is_FK_Advantage_product       0\n",
       "description                   2\n",
       "product_rating                0\n",
       "overall_rating                0\n",
       "brand                      5864\n",
       "product_specifications       14\n",
       "dtype: int64"
      ]
     },
     "execution_count": 4,
     "metadata": {},
     "output_type": "execute_result"
    }
   ],
   "source": [
    "data1.isnull().sum()"
   ]
  },
  {
   "cell_type": "markdown",
   "id": "b92e5b96",
   "metadata": {},
   "source": [
    "## Droping the columsn that are not necessary"
   ]
  },
  {
   "cell_type": "code",
   "execution_count": 5,
   "id": "4a39265a",
   "metadata": {},
   "outputs": [],
   "source": [
    "data1 = pd.DataFrame(data = data1,columns=['product_name','retail_price','discounted_price'])\n",
    "data2 = pd.DataFrame(data = data2,columns=['product_name','retail_price','discounted_price'])\n",
    "data1 = data1.rename({'product_name':'Product Name in Amazon','retail_price':'Retail Price in Amazon','discounted_price':'Discounted Price in Amazon'},axis=1)\n",
    "data2 = data2.rename({'product_name':'Product Name in Flipkart','retail_price':'Retail Price in Flipkart','discounted_price':'Discounted Price in FlipKart'},axis=1)"
   ]
  },
  {
   "cell_type": "code",
   "execution_count": 6,
   "id": "a5bf2a4e",
   "metadata": {},
   "outputs": [],
   "source": [
    "final_data = pd.concat([data1,data2],axis=1)"
   ]
  },
  {
   "cell_type": "code",
   "execution_count": 7,
   "id": "11b6a278",
   "metadata": {},
   "outputs": [
    {
     "data": {
      "text/plain": [
       "Product Name in Amazon        object\n",
       "Retail Price in Amazon         int64\n",
       "Discounted Price in Amazon     int64\n",
       "dtype: object"
      ]
     },
     "execution_count": 7,
     "metadata": {},
     "output_type": "execute_result"
    }
   ],
   "source": [
    "data1.dtypes"
   ]
  },
  {
   "cell_type": "markdown",
   "id": "06a18bf1",
   "metadata": {},
   "source": [
    "## Final Data"
   ]
  },
  {
   "cell_type": "code",
   "execution_count": 8,
   "id": "f0b0c1dc",
   "metadata": {},
   "outputs": [
    {
     "data": {
      "text/html": [
       "<div>\n",
       "<style scoped>\n",
       "    .dataframe tbody tr th:only-of-type {\n",
       "        vertical-align: middle;\n",
       "    }\n",
       "\n",
       "    .dataframe tbody tr th {\n",
       "        vertical-align: top;\n",
       "    }\n",
       "\n",
       "    .dataframe thead th {\n",
       "        text-align: right;\n",
       "    }\n",
       "</style>\n",
       "<table border=\"1\" class=\"dataframe\">\n",
       "  <thead>\n",
       "    <tr style=\"text-align: right;\">\n",
       "      <th></th>\n",
       "      <th>Product Name in Amazon</th>\n",
       "      <th>Retail Price in Amazon</th>\n",
       "      <th>Discounted Price in Amazon</th>\n",
       "      <th>Product Name in Flipkart</th>\n",
       "      <th>Retail Price in Flipkart</th>\n",
       "      <th>Discounted Price in FlipKart</th>\n",
       "    </tr>\n",
       "  </thead>\n",
       "  <tbody>\n",
       "    <tr>\n",
       "      <th>0</th>\n",
       "      <td>Alisha Solid Women's Cycling Shorts</td>\n",
       "      <td>982</td>\n",
       "      <td>438</td>\n",
       "      <td>Alisha Solid Women's Cycling Shorts</td>\n",
       "      <td>999.0</td>\n",
       "      <td>379.0</td>\n",
       "    </tr>\n",
       "    <tr>\n",
       "      <th>1</th>\n",
       "      <td>FabHomeDecor Fabric Double Sofa Bed</td>\n",
       "      <td>32143</td>\n",
       "      <td>29121</td>\n",
       "      <td>FabHomeDecor Fabric Double Sofa Bed</td>\n",
       "      <td>32157.0</td>\n",
       "      <td>22646.0</td>\n",
       "    </tr>\n",
       "    <tr>\n",
       "      <th>2</th>\n",
       "      <td>AW Bellies</td>\n",
       "      <td>991</td>\n",
       "      <td>551</td>\n",
       "      <td>AW Bellies</td>\n",
       "      <td>999.0</td>\n",
       "      <td>499.0</td>\n",
       "    </tr>\n",
       "    <tr>\n",
       "      <th>3</th>\n",
       "      <td>Alisha Solid Women's Cycling Shorts</td>\n",
       "      <td>694</td>\n",
       "      <td>325</td>\n",
       "      <td>Alisha Solid Women's Cycling Shorts</td>\n",
       "      <td>699.0</td>\n",
       "      <td>267.0</td>\n",
       "    </tr>\n",
       "    <tr>\n",
       "      <th>4</th>\n",
       "      <td>Sicons All Purpose Arnica Dog Shampoo</td>\n",
       "      <td>208</td>\n",
       "      <td>258</td>\n",
       "      <td>Sicons All Purpose Arnica Dog Shampoo</td>\n",
       "      <td>220.0</td>\n",
       "      <td>210.0</td>\n",
       "    </tr>\n",
       "    <tr>\n",
       "      <th>...</th>\n",
       "      <td>...</td>\n",
       "      <td>...</td>\n",
       "      <td>...</td>\n",
       "      <td>...</td>\n",
       "      <td>...</td>\n",
       "      <td>...</td>\n",
       "    </tr>\n",
       "    <tr>\n",
       "      <th>19995</th>\n",
       "      <td>WALLDESIGN SMALL VINYL STICKER</td>\n",
       "      <td>1498</td>\n",
       "      <td>876</td>\n",
       "      <td>WallDesign Small Vinyl Sticker</td>\n",
       "      <td>1500.0</td>\n",
       "      <td>730.0</td>\n",
       "    </tr>\n",
       "    <tr>\n",
       "      <th>19996</th>\n",
       "      <td>WALLMANTRA LARGE VINYL STICKERS STICKER</td>\n",
       "      <td>1415</td>\n",
       "      <td>1424</td>\n",
       "      <td>Wallmantra Large Vinyl Stickers Sticker</td>\n",
       "      <td>1429.0</td>\n",
       "      <td>1143.0</td>\n",
       "    </tr>\n",
       "    <tr>\n",
       "      <th>19997</th>\n",
       "      <td>ELITE COLLECTION MEDIUM ACRYLIC STICKER</td>\n",
       "      <td>1284</td>\n",
       "      <td>1196</td>\n",
       "      <td>Elite Collection Medium Acrylic Sticker</td>\n",
       "      <td>1299.0</td>\n",
       "      <td>999.0</td>\n",
       "    </tr>\n",
       "    <tr>\n",
       "      <th>19998</th>\n",
       "      <td>ELITE COLLECTION MEDIUM ACRYLIC STICKER</td>\n",
       "      <td>1492</td>\n",
       "      <td>1364</td>\n",
       "      <td>Elite Collection Medium Acrylic Sticker</td>\n",
       "      <td>1499.0</td>\n",
       "      <td>1199.0</td>\n",
       "    </tr>\n",
       "    <tr>\n",
       "      <th>19999</th>\n",
       "      <td>ELITE COLLECTION MEDIUM ACRYLIC STICKER</td>\n",
       "      <td>1484</td>\n",
       "      <td>1247</td>\n",
       "      <td>Elite Collection Medium Acrylic Sticker</td>\n",
       "      <td>1499.0</td>\n",
       "      <td>999.0</td>\n",
       "    </tr>\n",
       "  </tbody>\n",
       "</table>\n",
       "<p>20000 rows × 6 columns</p>\n",
       "</div>"
      ],
      "text/plain": [
       "                        Product Name in Amazon  Retail Price in Amazon  \\\n",
       "0          Alisha Solid Women's Cycling Shorts                     982   \n",
       "1          FabHomeDecor Fabric Double Sofa Bed                   32143   \n",
       "2                                   AW Bellies                     991   \n",
       "3          Alisha Solid Women's Cycling Shorts                     694   \n",
       "4        Sicons All Purpose Arnica Dog Shampoo                     208   \n",
       "...                                        ...                     ...   \n",
       "19995           WALLDESIGN SMALL VINYL STICKER                    1498   \n",
       "19996  WALLMANTRA LARGE VINYL STICKERS STICKER                    1415   \n",
       "19997  ELITE COLLECTION MEDIUM ACRYLIC STICKER                    1284   \n",
       "19998  ELITE COLLECTION MEDIUM ACRYLIC STICKER                    1492   \n",
       "19999  ELITE COLLECTION MEDIUM ACRYLIC STICKER                    1484   \n",
       "\n",
       "       Discounted Price in Amazon                 Product Name in Flipkart  \\\n",
       "0                             438      Alisha Solid Women's Cycling Shorts   \n",
       "1                           29121      FabHomeDecor Fabric Double Sofa Bed   \n",
       "2                             551                               AW Bellies   \n",
       "3                             325      Alisha Solid Women's Cycling Shorts   \n",
       "4                             258    Sicons All Purpose Arnica Dog Shampoo   \n",
       "...                           ...                                      ...   \n",
       "19995                         876           WallDesign Small Vinyl Sticker   \n",
       "19996                        1424  Wallmantra Large Vinyl Stickers Sticker   \n",
       "19997                        1196  Elite Collection Medium Acrylic Sticker   \n",
       "19998                        1364  Elite Collection Medium Acrylic Sticker   \n",
       "19999                        1247  Elite Collection Medium Acrylic Sticker   \n",
       "\n",
       "       Retail Price in Flipkart  Discounted Price in FlipKart  \n",
       "0                         999.0                         379.0  \n",
       "1                       32157.0                       22646.0  \n",
       "2                         999.0                         499.0  \n",
       "3                         699.0                         267.0  \n",
       "4                         220.0                         210.0  \n",
       "...                         ...                           ...  \n",
       "19995                    1500.0                         730.0  \n",
       "19996                    1429.0                        1143.0  \n",
       "19997                    1299.0                         999.0  \n",
       "19998                    1499.0                        1199.0  \n",
       "19999                    1499.0                         999.0  \n",
       "\n",
       "[20000 rows x 6 columns]"
      ]
     },
     "execution_count": 8,
     "metadata": {},
     "output_type": "execute_result"
    }
   ],
   "source": [
    "final_data"
   ]
  },
  {
   "cell_type": "markdown",
   "id": "7a798669",
   "metadata": {},
   "source": [
    "## Searching System and Result From the Search"
   ]
  },
  {
   "cell_type": "code",
   "execution_count": 13,
   "id": "e5959022",
   "metadata": {},
   "outputs": [
    {
     "name": "stdout",
     "output_type": "stream",
     "text": [
      "Enter the Product NameSicons All Purpose Arnica Dog Shampoo\n"
     ]
    },
    {
     "data": {
      "text/html": [
       "<div>\n",
       "<style scoped>\n",
       "    .dataframe tbody tr th:only-of-type {\n",
       "        vertical-align: middle;\n",
       "    }\n",
       "\n",
       "    .dataframe tbody tr th {\n",
       "        vertical-align: top;\n",
       "    }\n",
       "\n",
       "    .dataframe thead th {\n",
       "        text-align: right;\n",
       "    }\n",
       "</style>\n",
       "<table border=\"1\" class=\"dataframe\">\n",
       "  <thead>\n",
       "    <tr style=\"text-align: right;\">\n",
       "      <th></th>\n",
       "      <th>Product Name in Amazon</th>\n",
       "      <th>Retail Price in Amazon</th>\n",
       "      <th>Discounted Price in Amazon</th>\n",
       "      <th>Product Name in Flipkart</th>\n",
       "      <th>Retail Price in Flipkart</th>\n",
       "      <th>Discounted Price in FlipKart</th>\n",
       "    </tr>\n",
       "  </thead>\n",
       "  <tbody>\n",
       "    <tr>\n",
       "      <th>4</th>\n",
       "      <td>Sicons All Purpose Arnica Dog Shampoo</td>\n",
       "      <td>208</td>\n",
       "      <td>258</td>\n",
       "      <td>Sicons All Purpose Arnica Dog Shampoo</td>\n",
       "      <td>220.0</td>\n",
       "      <td>210.0</td>\n",
       "    </tr>\n",
       "  </tbody>\n",
       "</table>\n",
       "</div>"
      ],
      "text/plain": [
       "                  Product Name in Amazon  Retail Price in Amazon  \\\n",
       "4  Sicons All Purpose Arnica Dog Shampoo                     208   \n",
       "\n",
       "   Discounted Price in Amazon               Product Name in Flipkart  \\\n",
       "4                         258  Sicons All Purpose Arnica Dog Shampoo   \n",
       "\n",
       "   Retail Price in Flipkart  Discounted Price in FlipKart  \n",
       "4                     220.0                         210.0  "
      ]
     },
     "execution_count": 13,
     "metadata": {},
     "output_type": "execute_result"
    }
   ],
   "source": [
    "## Enter the product Name to Search Here\n",
    "Product = input('Enter the Product Name')\n",
    "final_data[final_data['Product Name in Amazon']==Product]\n"
   ]
  },
  {
   "cell_type": "code",
   "execution_count": null,
   "id": "6c09d085",
   "metadata": {},
   "outputs": [],
   "source": []
  }
 ],
 "metadata": {
  "kernelspec": {
   "display_name": "Python 3 (ipykernel)",
   "language": "python",
   "name": "python3"
  },
  "language_info": {
   "codemirror_mode": {
    "name": "ipython",
    "version": 3
   },
   "file_extension": ".py",
   "mimetype": "text/x-python",
   "name": "python",
   "nbconvert_exporter": "python",
   "pygments_lexer": "ipython3",
   "version": "3.9.7"
  }
 },
 "nbformat": 4,
 "nbformat_minor": 5
}
